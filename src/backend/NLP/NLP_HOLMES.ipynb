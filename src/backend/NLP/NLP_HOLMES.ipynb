{
  "nbformat": 4,
  "nbformat_minor": 0,
  "metadata": {
    "colab": {
      "provenance": []
    },
    "kernelspec": {
      "name": "python3",
      "display_name": "Python 3"
    },
    "language_info": {
      "name": "python"
    }
  },
  "cells": [
    {
      "cell_type": "markdown",
      "source": [
        "# Algoritmo de NLP\n",
        "\n",
        "<p> Um algoritmo de Processamento de Linguagem Natural (NLP) é um conjunto de instruções computacionais projetadas para lidar com texto e linguagem humana de maneira automatizada. Ele é desenvolvido para entender, interpretar, analisar ou gerar linguagem natural, permitindo que computadores possam interagir com dados textuais de maneira similar a como os seres humanos o fazem. </p>\n",
        "<p>Na finalidade do nosso projeto, ele tem o objetivo de entender a intenção do usuário em seu pedido para que ele consiga rastrear exatamente o que ele deseja no PDF que foi feito o upload. Como benefícios, trazemos a melhor experiência no prompt de comando e a eficiência nas respostas.\n",
        "</p>\n",
        "<p> Para fazer esse algoritmo, usamos bibliotecas como spacy e nltk, que oferecem uma ampla gama de recursos para lidar com tarefas relacionadas a NLP. Além de sklearn para análise de similaridade de cosseno e numpy e matplotlib para visualizar gráficos.</p>\n",
        "<br>\n",
        "<p> Durante todo o notebook será feitos passo a passo um algoritmo NLP, passando por processos como tokenização, stopwords, lemmatização e similaridade de cossenos. </p>"
      ],
      "metadata": {
        "id": "17BBF16hl5qS"
      }
    },
    {
      "cell_type": "markdown",
      "source": [
        "## Setup"
      ],
      "metadata": {
        "id": "LeJ6ZR-fVN0v"
      }
    },
    {
      "cell_type": "markdown",
      "source": [
        "Importação da biblioteca Spacy"
      ],
      "metadata": {
        "id": "fErhZwK3J3J_"
      }
    },
    {
      "cell_type": "code",
      "execution_count": null,
      "metadata": {
        "id": "QLlnUZ3xC6j1"
      },
      "outputs": [],
      "source": [
        "import spacy"
      ]
    },
    {
      "cell_type": "code",
      "source": [
        "spacy.cli.download('pt_core_news_lg')"
      ],
      "metadata": {
        "colab": {
          "base_uri": "https://localhost:8080/"
        },
        "id": "z7OCQXf63TeF",
        "outputId": "00a29d96-49b7-49a0-d9aa-8a689710b359"
      },
      "execution_count": null,
      "outputs": [
        {
          "output_type": "stream",
          "name": "stdout",
          "text": [
            "\u001b[38;5;2m✔ Download and installation successful\u001b[0m\n",
            "You can now load the package via spacy.load('pt_core_news_lg')\n"
          ]
        }
      ]
    },
    {
      "cell_type": "markdown",
      "source": [
        "Importação da biblioteca nltk, punkt e stopwords"
      ],
      "metadata": {
        "id": "qLXwTOjOQ-gO"
      }
    },
    {
      "cell_type": "code",
      "source": [
        "import nltk\n",
        "nltk.download('punkt')\n",
        "from nltk import tokenize\n",
        "nltk.download('stopwords')\n"
      ],
      "metadata": {
        "id": "7EGBuCvDRApN",
        "colab": {
          "base_uri": "https://localhost:8080/"
        },
        "outputId": "f8cff5da-d09b-4021-d035-da80c8da31c8"
      },
      "execution_count": null,
      "outputs": [
        {
          "output_type": "stream",
          "name": "stderr",
          "text": [
            "[nltk_data] Downloading package punkt to /root/nltk_data...\n",
            "[nltk_data]   Package punkt is already up-to-date!\n",
            "[nltk_data] Downloading package stopwords to /root/nltk_data...\n",
            "[nltk_data]   Package stopwords is already up-to-date!\n"
          ]
        },
        {
          "output_type": "execute_result",
          "data": {
            "text/plain": [
              "True"
            ]
          },
          "metadata": {},
          "execution_count": 29
        }
      ]
    },
    {
      "cell_type": "markdown",
      "source": [
        "Importação de Matriz de Similaridade e outras métricas"
      ],
      "metadata": {
        "id": "E6gM-g2DR4Dp"
      }
    },
    {
      "cell_type": "code",
      "source": [
        "from sklearn.feature_extraction.text import CountVectorizer\n",
        "from sklearn.metrics.pairwise import cosine_similarity"
      ],
      "metadata": {
        "id": "Z_h-NlpOTV8O"
      },
      "execution_count": null,
      "outputs": []
    },
    {
      "cell_type": "markdown",
      "source": [
        "## Textos utilizados para a base"
      ],
      "metadata": {
        "id": "8ExUJF-iqgLh"
      }
    },
    {
      "cell_type": "code",
      "source": [
        "texto = \"\"\"\n",
        "51% dos executivos de dados do Brasil apostam em IA, diz estudo da IBM\n",
        "O levantamento mostra que apesar da presença da IA no dia a dia das companhias, ela ainda não é usada amplamente para automatizar as tomadas de decisões\n",
        "A pesquisa \"CDO Study 2023\", que consulta executivos nos cargos de Chief Data Officers (CDOs) nos principais mercados da IBM, revelou que mais da metade (51%) dos CDOs brasileiros está utilizando inteligência artificial e dados para tomar decisões melhores e mais rápidas.\n",
        "\n",
        "No entanto, apenas 22% desses profissionais estão usando IA para automatizar a tomada de decisões. A pesquisa também destacou que 48% dos CDOs brasileiros alinham sua estratégia de gerenciamento de dados com a transformação digital das empresas.\n",
        "O CDO é um cargo criado para ser um agente de mudança nas empresas, com o objetivo de capacitar e divulgar o valor dos dados para as organizações.\n",
        "Esses profissionais não só precisam entender as necessidades estratégicas do negócio mas também implementar um planejamento de dados para ajudar os líderes a alcançar objetivos mais rapidamente e utilizar os dados como uma vantagem competitiva.\n",
        "\n",
        "A pesquisa também revelou que os executivos de dados brasileiros consideram a Internet das Coisas (60%), Nuvem Híbrida (48%) e IA e Machine Learning (33%) como as melhores tecnologias capazes de revelar o valor dos dados.\n",
        "\n",
        "O estudo foi realizado com 3 mil CDOs em todo o mundo, incluindo países da América Latina, como México, Chile e Colômbia. \"\"\""
      ],
      "metadata": {
        "id": "CefhZYqc3gki"
      },
      "execution_count": null,
      "outputs": []
    },
    {
      "cell_type": "code",
      "source": [
        "texto2 = \"\"\"\n",
        "IBM (IBMB34) tem alta de 15% na receita do 3T22 e supera previsões\n",
        "A gigante informática registrou alta nos resultados de todos seus segmentos de atuação\n",
        "IBM (IBMB34) teve alta nos resultados de cada segmento de negócios\n",
        "A receita de consultoria chegou a US$ 4,70 bilhões, um aumento de 5,5% e acima do consenso do mercado de US$ 4,51 bilhões. As margens antes dos impostos na unidade de consultoria diminuíram de 10,5% para 9,8%. A inflação contínua dos custos trabalhistas pesou no lucro da unidade.\n",
        "\n",
        "O segmento de infraestrutura teve uma receita de US$ 3,35 bilhões, um aumento de 14,8% e superior ao consenso de US$ 3,06 bilhões. A receita da linha de computadores mainframe z Systems da IBM aumentou 88%. As vendas do computador mainframe z16 começaram no segundo trimestre .\n",
        "Tanto o crescimento de nossa receita quanto o perfil de lucro operacional nos três primeiros trimestres do ano se alinham à tese de investimento que descrevemos no outono passado. Nosso mix de portfólio, fundamentos de negócios, forte fluxo de receita recorrente e sólida geração de caixa nos permitem investir para crescimento contínuo e retorno de valor aos acionistas por meio de dividendos\", salientou James Kavanaugh, CFO da IBM.\n",
        "\n",
        "Durante o trimestre, a IBM anunciou a aquisição da empresa de consultoria Dialexa e da startup de software de observabilidade Databand.ai , juntamente com novos servidores contendo seus chips Power10.\n",
        "\n",
        "O mercado gostou dos resultados da IBM, e as ações da gigante sobem mais de 3% nas negociações pós-mercado na Bolsa de Valores de Nova York (NYSE). Desde o começo do ano, as ações da IBM caíram 8%, enquanto o índice de ações S&P 500 caiu quase 23% no mesmo período.\"\"\""
      ],
      "metadata": {
        "id": "iKP8HNikKmr7"
      },
      "execution_count": null,
      "outputs": []
    },
    {
      "cell_type": "code",
      "source": [
        "texto3 = \"\"\"IBM planeja formar 30 milhões de profissionais no setor tech até 2030\n",
        "Empresa quer ajudar a formar profissionais que terão as habilidades \"necessárias para o trabalho do amanhã\"\n",
        "A gigante de tecnologia IBM divulgou nesta quarta-feira, 13, uma iniciativa global para capacitar 30 milhões de pessoas com as habilidades que serão \"necessárias para o trabalho do amanhã\".\n",
        "\n",
        "Serão 170 parceiros acadêmicos em mais de 30 países que contribuirão por meio de programas de ensino e plataformas de desenvolvimento profissional. Alguns dos exemplos no Brasil são a prefeitura de Santa Maria, no município do Rio Grande do Sul; e o Centro Paula Souza, no Estado de São Paulo, que estão atuando junto à IBM em modelos inovadores de educação.\n",
        "“Nosso objetivo aqui no Brasil é criar uma rede de oportunidades educacionais com amplo alcance e impacto no País. Temos um compromisso de longa data com a democratização da educação e da tecnologia, pois acreditamos que a inclusão é o melhor caminho para obtermos um crescimento social e econômico sustentado e justo para toda a sociedade, criando espaços para as pessoas e levando inovação para as empresas”, afirma Katia Vaskys, CEO da IBM Brasil.\n",
        "Além do Brasil, as iniciativas da IBM visam estratégias para desenvolvimento de força de trabalho nos EUA, Índia, Japão, Nigéria, Suécia, Hong Kong e outros países da América Latina.\n",
        "\n",
        "A empresa cita dados do Fórum Econômico Mundial de que reduzir o vão de habilidades globais poderia adicionar 11,5 trilhões de dólares à economia mundial até 2028.\"\"\""
      ],
      "metadata": {
        "id": "exktAyzzP5o-"
      },
      "execution_count": null,
      "outputs": []
    },
    {
      "cell_type": "code",
      "source": [
        "texto4 = \"\"\"IBM, USP e Fapesp inauguram centro de inteligência artificial no Brasil\n",
        "Projeto irá se dedicar, inicialmente, a projetos relacionados com saúde, meio ambiente, cadeia de produção de alimentos e futuro do trabalho.\n",
        "IBM, Universidade de São Paulo (USP) e Fapesp (Fundação de Amparo à Pesquisa do Estado de São Paulo) iniciaram nesta terça-feira (13) as atividades de um centro de inteligência artificial no Brasil.\n",
        "\n",
        "O espaço vai se dedicar ao desenvolvimento de pesquisas relacionadas a temas como saúde, meio ambiente, cadeia de produção de alimentos, futuro do trabalho e no desenvolvimento de tecnologias que possibilitam a interação com máquinas usando fala ou escrita em português.\n",
        "Ele terá uma segunda unidade destinada a capacitar estudantes e profissionais, no Instituto de Ciências Matemáticas e da Computação (ICMC), no campus da USP em São Carlos.\n",
        "\n",
        "Com financiamento de até 10 anos, a IBM e Fapesp irão reservar, cada uma, até R$ 2 milhões anualmente para implementar os programas do C4AI. A USP investirá pelo menos R$ 4 milhões por ano em instalações físicas, laboratórios, professores, técnicos e administradores para gerir a iniciativa.\n",
        "\n",
        "Mais de 60 pesquisadores de 14 unidades de ensino e pesquisa da USP estarão envolvidos nos estudos.\n",
        "\n",
        "A maioria dos resultados da pesquisa do C4AI, incluindo dados e códigos, será disponibilizado em um modelo de código aberto, o que permitirá seu uso por outras empresas, de acordo com Ana Paula Assis, Gerente Geral da IBM América Latina.\n",
        "\n",
        "\"O acordo prevê que a propriedade intelectual criada conjuntamente por USP e IBM seja co-propriedade de ambas, incluindo invenções e código, mas a intenção é disponibilizar o máximo possível através de inovação aberta para beneficiar o constante desenvolvimento do ecossistema de inovação do país\", disse Ana Paula Assis ao G1.\n",
        "As áreas de pesquisa\n",
        "Neste início, o centro irá trabalhar em cinco temas:\n",
        "\n",
        "cadeia de produção de alimentos, com foco especial a de pequenos produtores para resolver questões como desperdício de água e alimento;\n",
        "saúde, com o objetivo de melhorar o diagnóstico, o tratamento e a reabilitação de pacientes de acidente vascular cerebral (AVC) e investigar formas de melhorar a escolha de protocolos de reabilitação em casos de AVC;\n",
        "políticas públicas e o futuro do trabalho, com coleta de dados para uma análise sobre impacto da inteligência artificial nos empregos e no futuro do trabalho;\n",
        "interação com máquinas em português, com ferramentas e dados para treinar sistemas de diálogo no idioma para aprimorar os serviços de atendimento ao cliente, o treinamento de assistentes virtuais, o monitoramento de redes sociais, entre outros;\n",
        "pesquisa com aprendizado de máquina – campo de estudo no qual algoritmos podem identificar padrões e tomar decisões com pouca intervenção humana – para auxiliar a pesquisa na Amazônia Azul, região do oceano Atlântico na costa brasileira rica em biodiversidade, com o objetivo responder perguntas como “o que causou o aparecimento de manchas de óleo na costa nordeste do Brasil?”\n",
        "Comitês de acompanhamento\n",
        "O centro terá três comitês para avaliar os avanços e definir temas de interesse para a ciência, indústria e sociedade:\n",
        "\n",
        "um deles irá função avaliar o progresso científico;\n",
        "outro contará com a participação de representantes de empresas de diversos setores, órgãos públicos e sociedade civil, que irão colaborar para que os desenvolvimentos tenham impacto na indústria, na economia e na sociedade;\n",
        "o último promoverá a participação de mulheres, afrodescendentes e outros membros da sociedade para que haja participação mais inclusiva no setor de IA.\n",
        "Os critérios composição e o funcionamento desses comitês serão definidos nos próximos meses.\n",
        "\n",
        "\"Preocupação com questões éticas em IA é central no C4AI e será endereçada diretamente por uma das linhas de pesquisa\", disse Ana Paula Assis.\n",
        "\n",
        "\"O fato do C4AI promover a criação de bases abertas para pesquisa e indústria, a partir de dados coletados no Brasil, deverá contribuir para diminuir o viés de sistemas de IA pesquisados e desenvolvidos no país, muitas vezes treinados com bases de outros países\", afirmou.\"\"\""
      ],
      "metadata": {
        "id": "-E7synytRhE0"
      },
      "execution_count": null,
      "outputs": []
    },
    {
      "cell_type": "code",
      "source": [
        "textos = [texto, texto2, texto3, texto4]"
      ],
      "metadata": {
        "id": "_MxUyQJnBize"
      },
      "execution_count": null,
      "outputs": []
    },
    {
      "cell_type": "markdown",
      "source": [
        "## Minusculo"
      ],
      "metadata": {
        "id": "PJHjdVQyNDMw"
      }
    },
    {
      "cell_type": "code",
      "source": [
        "def minusculo(textos):\n",
        "    textos_minusculos = []\n",
        "    for texto in textos:\n",
        "        texto_minusculo = texto.lower()\n",
        "        textos_minusculos.append(texto_minusculo)\n",
        "    return textos_minusculos"
      ],
      "metadata": {
        "id": "HYjrMR4RNFJ1"
      },
      "execution_count": null,
      "outputs": []
    },
    {
      "cell_type": "markdown",
      "source": [
        "## Lemmatização\n",
        "Lemmatização é um processo linguístico utilizado no campo do Processamento de Linguagem Natural (NLP) para reduzir uma palavra a sua forma base, conhecida como \"lema\".\n",
        "<br>\n",
        "O processo de lemmatização envolve a remoção de sufixos e prefixos das palavras, para que elas sejam reduzidas ao seu núcleo significativo.\n",
        "<br>\n",
        "Por exemplo, na língua portuguesa, a lemmatização da palavra \"correndo\" resultaria em \"correr\", a forma base do verbo."
      ],
      "metadata": {
        "id": "5iqyRu8NqsWr"
      }
    },
    {
      "cell_type": "markdown",
      "source": [
        "Identificação dos verbos dos textos"
      ],
      "metadata": {
        "id": "jBhNsjgvKemJ"
      }
    },
    {
      "cell_type": "code",
      "source": [
        "nlp = spacy.load(\"pt_core_news_lg\")\n",
        "\n",
        "def lemmatizacao(textos):\n",
        "    textos_lematizados = []\n",
        "    for texto in textos:\n",
        "        doc = nlp(texto)\n",
        "        lemas_verbos = [token.lemma_ if token.pos_ == 'VERB' else token.text for token in doc]\n",
        "        texto_lematizado = ' '.join(lemas_verbos)\n",
        "        textos_lematizados.append(texto_lematizado)\n",
        "    return textos_lematizados"
      ],
      "metadata": {
        "id": "mPOFUoGM5G6C"
      },
      "execution_count": null,
      "outputs": []
    },
    {
      "cell_type": "markdown",
      "source": [
        "## Tokenização\n",
        "Tokenização é um processo fundamental no campo do Processamento de Linguagem Natural (NLP) que envolve a divisão de um texto em unidades menores, chamadas de \"tokens\". Esses tokens podem ser palavras individuais, pontuações, números ou outras unidades linguísticas que possuam significado.\n",
        "\n",
        "A tokenização é uma etapa crucial no processamento de textos, uma vez que muitas análises e tarefas de NLP dependem da compreensão das palavras individuais ou partes do texto. Ao dividir um texto em tokens, é possível segmentar uma sentença ou um parágrafo em suas unidades componentes, o que facilita a análise subsequente.\n",
        "\n",
        "Por exemplo, considere a frase: \"A raposa rápida\"\n",
        "\n",
        "A tokenização dessa frase resultaria em tokens individuais, como:\n",
        "\n",
        "\"A\"\n",
        "\"raposa\"\n",
        "\"rápida\""
      ],
      "metadata": {
        "id": "yPIhUCYuL7QK"
      }
    },
    {
      "cell_type": "code",
      "source": [
        "def tokenizacao(textos):\n",
        "    palavras_tokenizadas = []\n",
        "    for texto in textos:\n",
        "        palavras = tokenize.word_tokenize(texto, language='portuguese')\n",
        "        palavras_tokenizadas.extend(palavras)\n",
        "    return palavras_tokenizadas\n"
      ],
      "metadata": {
        "id": "QUhkFVld7Kys"
      },
      "execution_count": null,
      "outputs": []
    },
    {
      "cell_type": "markdown",
      "source": [
        "### Testes"
      ],
      "metadata": {
        "id": "bWnnLFJdRK_Z"
      }
    },
    {
      "cell_type": "code",
      "source": [
        "def test_tokenizacao():\n",
        "    textos = [\"Este é um exemplo de texto.\", \"Outro texto para testar.\"]\n",
        "\n",
        "    # Teste que falha\n",
        "    palavras_tokenizadas = tokenizacao(textos)\n",
        "    if len(palavras_tokenizadas) == 5:\n",
        "        print(\"Primeiro teste falhou\")\n",
        "    else:\n",
        "        print(\"Primeiro teste bem-sucedido\")\n",
        "\n",
        "    # Teste bem-sucedido\n",
        "    palavras_tokenizadas = tokenizacao(textos)\n",
        "    if len(palavras_tokenizadas) == 8:\n",
        "        print(\"Segundo teste bem-sucedido\")\n",
        "    else:\n",
        "        print(\"Segundo teste falhou\")\n",
        "\n",
        "test_tokenizacao()\n"
      ],
      "metadata": {
        "colab": {
          "base_uri": "https://localhost:8080/"
        },
        "id": "fSqlNPX5RNQd",
        "outputId": "975558cf-6c87-4820-8e16-e828faaf11ce"
      },
      "execution_count": null,
      "outputs": [
        {
          "output_type": "stream",
          "name": "stdout",
          "text": [
            "Primeiro teste bem-sucedido\n",
            "Segundo teste falhou\n"
          ]
        }
      ]
    },
    {
      "cell_type": "markdown",
      "source": [
        "## Identificação de StopWords\n",
        "\n",
        "Stopwords são palavras muito comuns em um idioma que geralmente são removidas durante a etapa de pré-processamento de textos no campo de Processamento de Linguagem Natural (NLP). Essas palavras não carregam um significado distintivo e não contribuem significativamente para a compreensão do conteúdo do texto em muitos contextos.\n",
        "\n",
        "As stopwords incluem palavras como artigos (\"o\", \"a\", \"um\", \"uma\"), preposições (\"de\", \"para\", \"com\"), pronomes pessoais (\"eu\", \"tu\", \"ele\", \"ela\") e outros termos muito frequentes que aparecem em praticamente todos os tipos de texto.\n",
        "\n",
        "A remoção de stopwords é realizada para melhorar a eficiência de processamento e análise de textos, bem como para reduzir a dimensão do vocabulário. Isso é particularmente útil em tarefas como recuperação de informações, análise de sentimentos, classificação de texto e modelagem de tópicos, onde o foco está nas palavras mais importantes para a compreensão do conteúdo.\n",
        "\n",
        "\n"
      ],
      "metadata": {
        "id": "QcWBYcr9MJlM"
      }
    },
    {
      "cell_type": "code",
      "source": [
        "def stopwordando(palavras):\n",
        "    stopwords = nltk.corpus.stopwords.words('portuguese')\n",
        "    palavras_sem_stopwords = [palavra for palavra in palavras if palavra not in stopwords]\n",
        "    return palavras_sem_stopwords"
      ],
      "metadata": {
        "id": "g9R6qjKv7oUV"
      },
      "execution_count": null,
      "outputs": []
    },
    {
      "cell_type": "markdown",
      "source": [
        "### Teste"
      ],
      "metadata": {
        "id": "cBGr_QCvQBGf"
      }
    },
    {
      "cell_type": "markdown",
      "source": [
        "Neste teste, estamos verificando se a função stopwordando está removendo corretamente as stopwords de uma lista de palavras."
      ],
      "metadata": {
        "id": "x08_9vFVQtbI"
      }
    },
    {
      "cell_type": "code",
      "source": [
        "def test_stopwordando():\n",
        "    palavras = [\"este\", \"é\", \"um\", \"exemplo\", \"de\", \"texto\", \"com\", \"stopwords\"]\n",
        "    palavras_sem_stopwords = stopwordando(palavras)\n",
        "    assert \"este\" not in palavras_sem_stopwords\n",
        "    assert \"é\" not in palavras_sem_stopwords\n",
        "    assert \"um\" not in palavras_sem_stopwords\n",
        "    assert \"exemplo\" in palavras_sem_stopwords\n",
        "    assert \"de\" not in palavras_sem_stopwords\n",
        "    assert \"texto\" in palavras_sem_stopwords\n",
        "    assert \"com\" not in palavras_sem_stopwords\n",
        "    assert \"stopwords\" in palavras_sem_stopwords\n",
        "    print(\"Teste bem-sucedido!\")\n",
        "\n",
        "test_stopwordando()"
      ],
      "metadata": {
        "colab": {
          "base_uri": "https://localhost:8080/"
        },
        "id": "FgiNhmlMQC08",
        "outputId": "2683351d-4202-4de8-f820-3207aa407a65"
      },
      "execution_count": null,
      "outputs": [
        {
          "output_type": "stream",
          "name": "stdout",
          "text": [
            "Teste bem-sucedido!\n"
          ]
        }
      ]
    },
    {
      "cell_type": "markdown",
      "source": [
        "Neste exemplo, alterei o teste para verificar se a palavra \"um\" está na lista de palavras sem stopwords. No entanto, a função stopwordando deve remover a palavra \"um\", o que fará com que esse teste específico falhe. Quando você executar esse código, ele deve mostrar uma mensagem de erro indicando qual assert falhou."
      ],
      "metadata": {
        "id": "a-VQWclFQnfa"
      }
    },
    {
      "cell_type": "code",
      "source": [
        "def test_stopwordando():\n",
        "    try:\n",
        "        palavras = [\"este\", \"é\", \"um\", \"exemplo\", \"de\", \"texto\", \"com\", \"stopwords\"]\n",
        "        palavras_sem_stopwords = stopwordando(palavras)\n",
        "        assert \"este\" not in palavras_sem_stopwords\n",
        "        assert \"é\" not in palavras_sem_stopwords\n",
        "        assert \"um\" in palavras_sem_stopwords  # Fazendo com que este assert falhe\n",
        "        assert \"exemplo\" in palavras_sem_stopwords\n",
        "        assert \"de\" not in palavras_sem_stopwords\n",
        "        assert \"texto\" in palavras_sem_stopwords\n",
        "        assert \"com\" not in palavras_sem_stopwords\n",
        "        assert \"stopwords\" in palavras_sem_stopwords\n",
        "        print(\"Teste bem-sucedido!\")\n",
        "    except AssertionError:\n",
        "        raise AssertionError(\"O teste falhou.\")\n",
        "\n",
        "\n",
        "test_stopwordando()\n"
      ],
      "metadata": {
        "colab": {
          "base_uri": "https://localhost:8080/",
          "height": 443
        },
        "id": "Wz162M1NQXOO",
        "outputId": "fd614657-8e0e-4844-fd51-0282b082269a"
      },
      "execution_count": null,
      "outputs": [
        {
          "output_type": "error",
          "ename": "AssertionError",
          "evalue": "ignored",
          "traceback": [
            "\u001b[0;31m---------------------------------------------------------------------------\u001b[0m",
            "\u001b[0;31mAssertionError\u001b[0m                            Traceback (most recent call last)",
            "\u001b[0;32m<ipython-input-42-8289f6872baf>\u001b[0m in \u001b[0;36mtest_stopwordando\u001b[0;34m()\u001b[0m\n\u001b[1;32m      6\u001b[0m         \u001b[0;32massert\u001b[0m \u001b[0;34m\"é\"\u001b[0m \u001b[0;32mnot\u001b[0m \u001b[0;32min\u001b[0m \u001b[0mpalavras_sem_stopwords\u001b[0m\u001b[0;34m\u001b[0m\u001b[0;34m\u001b[0m\u001b[0m\n\u001b[0;32m----> 7\u001b[0;31m         \u001b[0;32massert\u001b[0m \u001b[0;34m\"um\"\u001b[0m \u001b[0;32min\u001b[0m \u001b[0mpalavras_sem_stopwords\u001b[0m  \u001b[0;31m# Fazendo com que este assert falhe\u001b[0m\u001b[0;34m\u001b[0m\u001b[0;34m\u001b[0m\u001b[0m\n\u001b[0m\u001b[1;32m      8\u001b[0m         \u001b[0;32massert\u001b[0m \u001b[0;34m\"exemplo\"\u001b[0m \u001b[0;32min\u001b[0m \u001b[0mpalavras_sem_stopwords\u001b[0m\u001b[0;34m\u001b[0m\u001b[0;34m\u001b[0m\u001b[0m\n",
            "\u001b[0;31mAssertionError\u001b[0m: ",
            "\nDuring handling of the above exception, another exception occurred:\n",
            "\u001b[0;31mAssertionError\u001b[0m                            Traceback (most recent call last)",
            "\u001b[0;32m<ipython-input-42-8289f6872baf>\u001b[0m in \u001b[0;36m<cell line: 18>\u001b[0;34m()\u001b[0m\n\u001b[1;32m     16\u001b[0m \u001b[0;34m\u001b[0m\u001b[0m\n\u001b[1;32m     17\u001b[0m \u001b[0;34m\u001b[0m\u001b[0m\n\u001b[0;32m---> 18\u001b[0;31m \u001b[0mtest_stopwordando\u001b[0m\u001b[0;34m(\u001b[0m\u001b[0;34m)\u001b[0m\u001b[0;34m\u001b[0m\u001b[0;34m\u001b[0m\u001b[0m\n\u001b[0m",
            "\u001b[0;32m<ipython-input-42-8289f6872baf>\u001b[0m in \u001b[0;36mtest_stopwordando\u001b[0;34m()\u001b[0m\n\u001b[1;32m     13\u001b[0m         \u001b[0mprint\u001b[0m\u001b[0;34m(\u001b[0m\u001b[0;34m\"Teste bem-sucedido!\"\u001b[0m\u001b[0;34m)\u001b[0m\u001b[0;34m\u001b[0m\u001b[0;34m\u001b[0m\u001b[0m\n\u001b[1;32m     14\u001b[0m     \u001b[0;32mexcept\u001b[0m \u001b[0mAssertionError\u001b[0m\u001b[0;34m:\u001b[0m\u001b[0;34m\u001b[0m\u001b[0;34m\u001b[0m\u001b[0m\n\u001b[0;32m---> 15\u001b[0;31m         \u001b[0;32mraise\u001b[0m \u001b[0mAssertionError\u001b[0m\u001b[0;34m(\u001b[0m\u001b[0;34m\"O teste falhou.\"\u001b[0m\u001b[0;34m)\u001b[0m\u001b[0;34m\u001b[0m\u001b[0;34m\u001b[0m\u001b[0m\n\u001b[0m\u001b[1;32m     16\u001b[0m \u001b[0;34m\u001b[0m\u001b[0m\n\u001b[1;32m     17\u001b[0m \u001b[0;34m\u001b[0m\u001b[0m\n",
            "\u001b[0;31mAssertionError\u001b[0m: O teste falhou."
          ]
        }
      ]
    },
    {
      "cell_type": "markdown",
      "source": [
        "## Pipeline"
      ],
      "metadata": {
        "id": "d9mRx-iqPWNI"
      }
    },
    {
      "cell_type": "code",
      "source": [
        "textos = [texto, texto2, texto3, texto4]\n",
        "\n",
        "def pipeline(textos):\n",
        "    textos_minusculos = minusculo(textos)\n",
        "    textos_lematizados = lemmatizacao(textos_minusculos)\n",
        "    palavras_tokenizadas = tokenizacao(textos_lematizados)\n",
        "    palavras_sem_stopwords = stopwordando(palavras_tokenizadas)\n",
        "\n",
        "    resultados_finais = [' '.join(palavras_sem_stopwords)]  # Adicionando o resultado final à lista\n",
        "\n",
        "    return resultados_finais\n",
        "\n",
        "resultados = pipeline(textos)\n",
        "print(\"Resultados finais:\", resultados)\n",
        "\n",
        "\n",
        "pipeline(textos)"
      ],
      "metadata": {
        "colab": {
          "base_uri": "https://localhost:8080/"
        },
        "id": "V8RYGRsCGFhM",
        "outputId": "2d7d2aff-77c7-48b6-d809-044017afbc7e"
      },
      "execution_count": null,
      "outputs": [
        {
          "output_type": "stream",
          "name": "stdout",
          "text": [
            "Resultados finais: ['51 % executivos dados brasil apostar ia , dizer estudo ibm levantamento mostrar apesar presença ia dia dia companhias , ainda usar amplamente automatizar tomadas decisões pesquisa `` cdo study 2023 `` , consultar executivos cargos chief data officers ( cr ) principais mercados ibm , revelar metade ( 51 % ) cdo brasileiros utilizar inteligência artificial dar tomar decisões melhores rápidas . entanto , apenas 22 % desses profissionais usar ir automatizar tomada decisões . pesquisa destacar 48 % cdo brasileiros alinhar estratégia gerenciamento dados transformação digital empresas . cdo cargo criar agente mudança empresas , objetivo capacitar divulgar valor dados organizações . profissionais precisar entender necessidades estratégicas negócio implementar planejamento dados ajudar líderes alcançar objetivos rapidamente utilizar dados vantagem competitiva . pesquisa revelar executivos dados brasileiros considerar internet coisas ( 60 % ) , nuvem híbrir ( 48 % ) ia machine learning ( 33 % ) melhores tecnologias capazes revelar valor dados . estudo realizar 3 mil cr todo mundo , incluir países américa latina , méxico , chile colômbia . ibm ( ibmb34 ) ter alta 15 % receita 3t22 superar previsões gigante informática registrar alta resultados todos segmentos atuação ibm ( ibmb34 ) ter alta resultados cada segmento negócios receita consultoria chegar us $ 4,70 bilhões , aumento 5,5 % acima consenso mercado us $ 4,51 bilhões . margens antes impostos unidade consultoria diminuir 10,5 % 9,8 % . inflação contínua custos trabalhistas pesar lucro unidade . segmento infraestrutura ter receita us $ 3,35 bilhões , aumento 14,8 % superior consenso us $ 3,06 bilhões . receita linha computadores mainframe z systems ibm aumentar 88 % . vendas computador mainframe z16 começar segundo trimestre . tanto crescimento receita quanto perfil lucro operacional três primeiros trimestres ano alinhar tese investimento descrever outono passado . mix portfólio , fundamentos negócios , forte fluxo receita recorrente sólida geração caixa permitir investir crescimento contínuo retorno valor acionistas meio dividendos `` , salientar james kavanaugh , cfo ibm . durante trimestre , ibm anunciar aquisição empresa consultoria dialexa startup software observabilidade databand.ai , juntamente novos servidores conter chips power10 . mercado gostar resultados ibm , ações gigante subir 3 % negociações pós-mercado bolsa valores nova york ( nyse ) . desde começo ano , ações ibm cair 8 % , enquanto índice ações s & p 500 cair quase 23 % período . ibm planejar formar 30 milhões profissionais setor tech 2030 empresa querer ajudar formar profissionais ter habilidades `` necessárias trabalho amanhã `` gigante tecnologia ibm divulgar nesta quarta-feira , 13 , iniciativa global capacitar 30 milhões pessoas habilidades `` necessárias trabalho amanhã `` . 170 parceiros acadêmicos 30 países contribuir meio programas ensino plataformas desenvolvimento profissional . alguns exemplos brasil prefeitura santa maria , município rio grande sul ; centro paula souza , estado paulo , atuar junto ibm modelos inovadores educação . “ objetivo aqui brasil criar rede oportunidades educacionais amplo alcance impacto país . ter compromisso longa data democratização educação tecnologia , pois acreditar inclusão melhor caminho obter crescimento social econômico sustentar justo toda sociedade , criar espaços pessoas levar inovação empresas ” , afirmar katia vaskys , ceo ibm brasil . além brasil , iniciativas ibm visar estratégias desenvolvimento força trabalho eua , índia , japão , nigéria , suécia , hong kong outros países américa latina . empresa citar dados fórum econômico mundial reduzir ir habilidades globais poder adicionar 11,5 trilhões dólares economia mundial 2028 . ibm , usp fapesp inaugurar centro inteligência artificial brasil projeto irá dedicar , inicialmente , projetos relacionar saúde , meio ambiente , cadeia produção alimentos futuro trabalho . ibm , universidade paulo ( usp ) fapesp ( fundação amparo pesquisa estado paulo ) iniciar nesta terça-feira ( 13 ) atividades centro inteligência artificial brasil . espaço vai dedicar desenvolvimento pesquisas relacionar temas saúde , meio ambiente , cadeia produção alimentos , futuro trabalho desenvolvimento tecnologias possibilitar interação máquinas usar falar escrita português . ter segunda unidade destinar capacitar estudantes profissionais , instituto ciências matemáticas computação ( icmc ) , campus usp carlos . financiamento 10 anos , ibm fapesp irão reservar , cada , r $ 2 milhões anualmente implementar programas c4ai . usp investir menos r $ 4 milhões ano instalações físicas , laboratórios , professores , técnicos administradores gerir iniciativa . 60 pesquisadores 14 unidades ensino pesquisa usp estarão envolvidos estudos . maioria resultados pesquisa c4ai , incluir dados códigos , disponibilizar modelo código abrir , permitir uso outras empresas , acordo ana paula assis , gerente geral ibm américa latina . `` acordo prever propriedade intelectual criar conjuntamente usp ibm co-propriedade ambas , incluir invenções código , intenção disponibilizar máximo possível através inovação abrir beneficiar constante desenvolvimento ecossistema inovação país `` , dizer ana paula assis g1 . áreas pesquisa neste início , centro irá trabalhar cinco temas : cadeia produção alimentos , foco especial pequenos produtores resolver questões desperdício água alimento ; saúde , objetivo melhorar diagnóstico , tratamento reabilitação pacientes acidente vascular cerebral ( avc ) investigar formas melhorar escolha protocolos reabilitação casos avc ; políticas públicas futuro trabalho , coleta dados análise sobre impacto inteligência artificial empregos futuro trabalho ; interação máquinas português , ferramentas dar treinar sistemas diálogo idioma aprimorar serviços atendimento cliente , treinamento assistentes virtuais , monitoramento redes sociais , outros ; pesquisa aprendizado máquina – campo estudo algoritmos poder identificar padrões tomar decisões pouca intervenção humana – auxiliar pesquisa amazônia azul , região oceano atlântico costa brasileira rica biodiversidade , objetivo responder perguntas “ causar aparecimento manchas óleo costa nordeste brasil ? ” comitês acompanhamento centro ter três comitês avaliar avanços definir temas interesse ciência , indústria sociedade : irá função avaliar progresso científico ; outro contar participação representantes empresas diversos setores , órgãos públicos sociedade civil , irão colaborar desenvolvimentos ter impacto indústria , economia sociedade ; último promover participação mulheres , afrodescendentes outros membros sociedade participação inclusiva setor ia . critérios composição funcionamento desses comitês definir próximos meses . `` preocupação questões éticas ia central c4ai endereçar diretamente linhas pesquisa `` , dizer ana paula assis . `` fato c4ai promover criação bases aberto pesquisa indústria , partir dados coletar brasil , dever contribuir diminuir viés sistemas ia pesquisado desenvolver país , muitas vezes treinar bases outros países `` , afirmar .']\n"
          ]
        },
        {
          "output_type": "execute_result",
          "data": {
            "text/plain": [
              "['51 % executivos dados brasil apostar ia , dizer estudo ibm levantamento mostrar apesar presença ia dia dia companhias , ainda usar amplamente automatizar tomadas decisões pesquisa `` cdo study 2023 `` , consultar executivos cargos chief data officers ( cr ) principais mercados ibm , revelar metade ( 51 % ) cdo brasileiros utilizar inteligência artificial dar tomar decisões melhores rápidas . entanto , apenas 22 % desses profissionais usar ir automatizar tomada decisões . pesquisa destacar 48 % cdo brasileiros alinhar estratégia gerenciamento dados transformação digital empresas . cdo cargo criar agente mudança empresas , objetivo capacitar divulgar valor dados organizações . profissionais precisar entender necessidades estratégicas negócio implementar planejamento dados ajudar líderes alcançar objetivos rapidamente utilizar dados vantagem competitiva . pesquisa revelar executivos dados brasileiros considerar internet coisas ( 60 % ) , nuvem híbrir ( 48 % ) ia machine learning ( 33 % ) melhores tecnologias capazes revelar valor dados . estudo realizar 3 mil cr todo mundo , incluir países américa latina , méxico , chile colômbia . ibm ( ibmb34 ) ter alta 15 % receita 3t22 superar previsões gigante informática registrar alta resultados todos segmentos atuação ibm ( ibmb34 ) ter alta resultados cada segmento negócios receita consultoria chegar us $ 4,70 bilhões , aumento 5,5 % acima consenso mercado us $ 4,51 bilhões . margens antes impostos unidade consultoria diminuir 10,5 % 9,8 % . inflação contínua custos trabalhistas pesar lucro unidade . segmento infraestrutura ter receita us $ 3,35 bilhões , aumento 14,8 % superior consenso us $ 3,06 bilhões . receita linha computadores mainframe z systems ibm aumentar 88 % . vendas computador mainframe z16 começar segundo trimestre . tanto crescimento receita quanto perfil lucro operacional três primeiros trimestres ano alinhar tese investimento descrever outono passado . mix portfólio , fundamentos negócios , forte fluxo receita recorrente sólida geração caixa permitir investir crescimento contínuo retorno valor acionistas meio dividendos `` , salientar james kavanaugh , cfo ibm . durante trimestre , ibm anunciar aquisição empresa consultoria dialexa startup software observabilidade databand.ai , juntamente novos servidores conter chips power10 . mercado gostar resultados ibm , ações gigante subir 3 % negociações pós-mercado bolsa valores nova york ( nyse ) . desde começo ano , ações ibm cair 8 % , enquanto índice ações s & p 500 cair quase 23 % período . ibm planejar formar 30 milhões profissionais setor tech 2030 empresa querer ajudar formar profissionais ter habilidades `` necessárias trabalho amanhã `` gigante tecnologia ibm divulgar nesta quarta-feira , 13 , iniciativa global capacitar 30 milhões pessoas habilidades `` necessárias trabalho amanhã `` . 170 parceiros acadêmicos 30 países contribuir meio programas ensino plataformas desenvolvimento profissional . alguns exemplos brasil prefeitura santa maria , município rio grande sul ; centro paula souza , estado paulo , atuar junto ibm modelos inovadores educação . “ objetivo aqui brasil criar rede oportunidades educacionais amplo alcance impacto país . ter compromisso longa data democratização educação tecnologia , pois acreditar inclusão melhor caminho obter crescimento social econômico sustentar justo toda sociedade , criar espaços pessoas levar inovação empresas ” , afirmar katia vaskys , ceo ibm brasil . além brasil , iniciativas ibm visar estratégias desenvolvimento força trabalho eua , índia , japão , nigéria , suécia , hong kong outros países américa latina . empresa citar dados fórum econômico mundial reduzir ir habilidades globais poder adicionar 11,5 trilhões dólares economia mundial 2028 . ibm , usp fapesp inaugurar centro inteligência artificial brasil projeto irá dedicar , inicialmente , projetos relacionar saúde , meio ambiente , cadeia produção alimentos futuro trabalho . ibm , universidade paulo ( usp ) fapesp ( fundação amparo pesquisa estado paulo ) iniciar nesta terça-feira ( 13 ) atividades centro inteligência artificial brasil . espaço vai dedicar desenvolvimento pesquisas relacionar temas saúde , meio ambiente , cadeia produção alimentos , futuro trabalho desenvolvimento tecnologias possibilitar interação máquinas usar falar escrita português . ter segunda unidade destinar capacitar estudantes profissionais , instituto ciências matemáticas computação ( icmc ) , campus usp carlos . financiamento 10 anos , ibm fapesp irão reservar , cada , r $ 2 milhões anualmente implementar programas c4ai . usp investir menos r $ 4 milhões ano instalações físicas , laboratórios , professores , técnicos administradores gerir iniciativa . 60 pesquisadores 14 unidades ensino pesquisa usp estarão envolvidos estudos . maioria resultados pesquisa c4ai , incluir dados códigos , disponibilizar modelo código abrir , permitir uso outras empresas , acordo ana paula assis , gerente geral ibm américa latina . `` acordo prever propriedade intelectual criar conjuntamente usp ibm co-propriedade ambas , incluir invenções código , intenção disponibilizar máximo possível através inovação abrir beneficiar constante desenvolvimento ecossistema inovação país `` , dizer ana paula assis g1 . áreas pesquisa neste início , centro irá trabalhar cinco temas : cadeia produção alimentos , foco especial pequenos produtores resolver questões desperdício água alimento ; saúde , objetivo melhorar diagnóstico , tratamento reabilitação pacientes acidente vascular cerebral ( avc ) investigar formas melhorar escolha protocolos reabilitação casos avc ; políticas públicas futuro trabalho , coleta dados análise sobre impacto inteligência artificial empregos futuro trabalho ; interação máquinas português , ferramentas dar treinar sistemas diálogo idioma aprimorar serviços atendimento cliente , treinamento assistentes virtuais , monitoramento redes sociais , outros ; pesquisa aprendizado máquina – campo estudo algoritmos poder identificar padrões tomar decisões pouca intervenção humana – auxiliar pesquisa amazônia azul , região oceano atlântico costa brasileira rica biodiversidade , objetivo responder perguntas “ causar aparecimento manchas óleo costa nordeste brasil ? ” comitês acompanhamento centro ter três comitês avaliar avanços definir temas interesse ciência , indústria sociedade : irá função avaliar progresso científico ; outro contar participação representantes empresas diversos setores , órgãos públicos sociedade civil , irão colaborar desenvolvimentos ter impacto indústria , economia sociedade ; último promover participação mulheres , afrodescendentes outros membros sociedade participação inclusiva setor ia . critérios composição funcionamento desses comitês definir próximos meses . `` preocupação questões éticas ia central c4ai endereçar diretamente linhas pesquisa `` , dizer ana paula assis . `` fato c4ai promover criação bases aberto pesquisa indústria , partir dados coletar brasil , dever contribuir diminuir viés sistemas ia pesquisado desenvolver país , muitas vezes treinar bases outros países `` , afirmar .']"
            ]
          },
          "metadata": {},
          "execution_count": 43
        }
      ]
    },
    {
      "cell_type": "code",
      "source": [
        "resultados[0]"
      ],
      "metadata": {
        "colab": {
          "base_uri": "https://localhost:8080/",
          "height": 123
        },
        "id": "RDB2S8OEPovG",
        "outputId": "87f803c1-5509-405d-b1b6-30b3a58498ce"
      },
      "execution_count": null,
      "outputs": [
        {
          "output_type": "execute_result",
          "data": {
            "text/plain": [
              "'51 % executivos dados brasil apostar ia , dizer estudo ibm levantamento mostrar apesar presença ia dia dia companhias , ainda usar amplamente automatizar tomadas decisões pesquisa `` cdo study 2023 `` , consultar executivos cargos chief data officers ( cr ) principais mercados ibm , revelar metade ( 51 % ) cdo brasileiros utilizar inteligência artificial dar tomar decisões melhores rápidas . entanto , apenas 22 % desses profissionais usar ir automatizar tomada decisões . pesquisa destacar 48 % cdo brasileiros alinhar estratégia gerenciamento dados transformação digital empresas . cdo cargo criar agente mudança empresas , objetivo capacitar divulgar valor dados organizações . profissionais precisar entender necessidades estratégicas negócio implementar planejamento dados ajudar líderes alcançar objetivos rapidamente utilizar dados vantagem competitiva . pesquisa revelar executivos dados brasileiros considerar internet coisas ( 60 % ) , nuvem híbrir ( 48 % ) ia machine learning ( 33 % ) melhores tecnologias capazes revelar valor dados . estudo realizar 3 mil cr todo mundo , incluir países américa latina , méxico , chile colômbia . ibm ( ibmb34 ) ter alta 15 % receita 3t22 superar previsões gigante informática registrar alta resultados todos segmentos atuação ibm ( ibmb34 ) ter alta resultados cada segmento negócios receita consultoria chegar us $ 4,70 bilhões , aumento 5,5 % acima consenso mercado us $ 4,51 bilhões . margens antes impostos unidade consultoria diminuir 10,5 % 9,8 % . inflação contínua custos trabalhistas pesar lucro unidade . segmento infraestrutura ter receita us $ 3,35 bilhões , aumento 14,8 % superior consenso us $ 3,06 bilhões . receita linha computadores mainframe z systems ibm aumentar 88 % . vendas computador mainframe z16 começar segundo trimestre . tanto crescimento receita quanto perfil lucro operacional três primeiros trimestres ano alinhar tese investimento descrever outono passado . mix portfólio , fundamentos negócios , forte fluxo receita recorrente sólida geração caixa permitir investir crescimento contínuo retorno valor acionistas meio dividendos `` , salientar james kavanaugh , cfo ibm . durante trimestre , ibm anunciar aquisição empresa consultoria dialexa startup software observabilidade databand.ai , juntamente novos servidores conter chips power10 . mercado gostar resultados ibm , ações gigante subir 3 % negociações pós-mercado bolsa valores nova york ( nyse ) . desde começo ano , ações ibm cair 8 % , enquanto índice ações s & p 500 cair quase 23 % período . ibm planejar formar 30 milhões profissionais setor tech 2030 empresa querer ajudar formar profissionais ter habilidades `` necessárias trabalho amanhã `` gigante tecnologia ibm divulgar nesta quarta-feira , 13 , iniciativa global capacitar 30 milhões pessoas habilidades `` necessárias trabalho amanhã `` . 170 parceiros acadêmicos 30 países contribuir meio programas ensino plataformas desenvolvimento profissional . alguns exemplos brasil prefeitura santa maria , município rio grande sul ; centro paula souza , estado paulo , atuar junto ibm modelos inovadores educação . “ objetivo aqui brasil criar rede oportunidades educacionais amplo alcance impacto país . ter compromisso longa data democratização educação tecnologia , pois acreditar inclusão melhor caminho obter crescimento social econômico sustentar justo toda sociedade , criar espaços pessoas levar inovação empresas ” , afirmar katia vaskys , ceo ibm brasil . além brasil , iniciativas ibm visar estratégias desenvolvimento força trabalho eua , índia , japão , nigéria , suécia , hong kong outros países américa latina . empresa citar dados fórum econômico mundial reduzir ir habilidades globais poder adicionar 11,5 trilhões dólares economia mundial 2028 . ibm , usp fapesp inaugurar centro inteligência artificial brasil projeto irá dedicar , inicialmente , projetos relacionar saúde , meio ambiente , cadeia produção alimentos futuro trabalho . ibm , universidade paulo ( usp ) fapesp ( fundação amparo pesquisa estado paulo ) iniciar nesta terça-feira ( 13 ) atividades centro inteligência artificial brasil . espaço vai dedicar desenvolvimento pesquisas relacionar temas saúde , meio ambiente , cadeia produção alimentos , futuro trabalho desenvolvimento tecnologias possibilitar interação máquinas usar falar escrita português . ter segunda unidade destinar capacitar estudantes profissionais , instituto ciências matemáticas computação ( icmc ) , campus usp carlos . financiamento 10 anos , ibm fapesp irão reservar , cada , r $ 2 milhões anualmente implementar programas c4ai . usp investir menos r $ 4 milhões ano instalações físicas , laboratórios , professores , técnicos administradores gerir iniciativa . 60 pesquisadores 14 unidades ensino pesquisa usp estarão envolvidos estudos . maioria resultados pesquisa c4ai , incluir dados códigos , disponibilizar modelo código abrir , permitir uso outras empresas , acordo ana paula assis , gerente geral ibm américa latina . `` acordo prever propriedade intelectual criar conjuntamente usp ibm co-propriedade ambas , incluir invenções código , intenção disponibilizar máximo possível através inovação abrir beneficiar constante desenvolvimento ecossistema inovação país `` , dizer ana paula assis g1 . áreas pesquisa neste início , centro irá trabalhar cinco temas : cadeia produção alimentos , foco especial pequenos produtores resolver questões desperdício água alimento ; saúde , objetivo melhorar diagnóstico , tratamento reabilitação pacientes acidente vascular cerebral ( avc ) investigar formas melhorar escolha protocolos reabilitação casos avc ; políticas públicas futuro trabalho , coleta dados análise sobre impacto inteligência artificial empregos futuro trabalho ; interação máquinas português , ferramentas dar treinar sistemas diálogo idioma aprimorar serviços atendimento cliente , treinamento assistentes virtuais , monitoramento redes sociais , outros ; pesquisa aprendizado máquina – campo estudo algoritmos poder identificar padrões tomar decisões pouca intervenção humana – auxiliar pesquisa amazônia azul , região oceano atlântico costa brasileira rica biodiversidade , objetivo responder perguntas “ causar aparecimento manchas óleo costa nordeste brasil ? ” comitês acompanhamento centro ter três comitês avaliar avanços definir temas interesse ciência , indústria sociedade : irá função avaliar progresso científico ; outro contar participação representantes empresas diversos setores , órgãos públicos sociedade civil , irão colaborar desenvolvimentos ter impacto indústria , economia sociedade ; último promover participação mulheres , afrodescendentes outros membros sociedade participação inclusiva setor ia . critérios composição funcionamento desses comitês definir próximos meses . `` preocupação questões éticas ia central c4ai endereçar diretamente linhas pesquisa `` , dizer ana paula assis . `` fato c4ai promover criação bases aberto pesquisa indústria , partir dados coletar brasil , dever contribuir diminuir viés sistemas ia pesquisado desenvolver país , muitas vezes treinar bases outros países `` , afirmar .'"
            ],
            "application/vnd.google.colaboratory.intrinsic+json": {
              "type": "string"
            }
          },
          "metadata": {},
          "execution_count": 44
        }
      ]
    },
    {
      "cell_type": "markdown",
      "source": [
        "## Similaridade de cosseno\n",
        "A similaridade de cosseno é uma métrica usada para medir a similaridade entre dois vetores em um espaço vetorial. Essa métrica é frequentemente utilizada no campo de Processamento de Linguagem Natural (NLP) para comparar a semelhança entre documentos, palavras ou outros elementos textuais representados como vetores.\n",
        "\n",
        "O cosseno de ângulo entre dois vetores é calculado dividindo o produto interno desses vetores pelo produto do comprimento (norma) dos vetores. Em termos matemáticos, a fórmula para calcular a similaridade de cosseno entre dois vetores A e B é: <br>\n",
        "![Captura de tela 2023-08-22 142852.png](data:image/png;base64,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)\n",
        "<br>\n",
        "Na aplicação de NLP, os vetores geralmente representam documentos, palavras ou frases em um espaço vetorial, como por meio de técnicas de incorporação de palavras (word embeddings) como o Word2Vec ou o GloVe. Ao calcular a similaridade de cosseno entre dois vetores de palavras ou documentos, é possível avaliar a proximidade semântica entre eles.\n",
        "\n",
        "Por exemplo, na análise de texto, se você tiver vetores de incorporação para as palavras \"gato\" e \"cachorro\", um alto valor de similaridade de cosseno entre esses vetores indicaria que as palavras são semanticamente semelhantes. Isso é usado em tarefas como recuperação de informações, agrupamento de texto, recomendação de conteúdo e muito mais, onde a comparação semântica é importante.\n",
        "\n",
        "\n",
        "\n",
        "\n",
        "\n",
        "\n"
      ],
      "metadata": {
        "id": "_DhhTApMTll4"
      }
    },
    {
      "cell_type": "markdown",
      "source": [
        "### Similaridade em pares"
      ],
      "metadata": {
        "id": "YzzPG-VOUQvG"
      }
    },
    {
      "cell_type": "markdown",
      "source": [
        "Essa etapa tem o objetivo de converter os dados dos textos em uma matriz de contagem de tokens. Para isso, precisamo criar uma matriz esparsa que representa a contagem de cada token do texto. Logo após, é necessário que essa matriz esparsa seja transformada em uma matriz densa. Nessa matriz, cada coluna representa um token e cada linha representa um documento com as contagens de tokens.\n",
        "Em seguida, é criado o dataFrame original que contém as informações dos textos originais.Dessa forma, para finalizar é feito um \"merge\" para a criação de um dataFrame que possui as informações dos textos originais e as informações da contagem dos tokens."
      ],
      "metadata": {
        "id": "zCh8b-_SvJhe"
      }
    },
    {
      "cell_type": "code",
      "source": [
        "vectorizer = CountVectorizer()\n",
        "X = vectorizer.fit_transform(resultados)"
      ],
      "metadata": {
        "id": "ofuGPwKxkkZf"
      },
      "execution_count": null,
      "outputs": []
    },
    {
      "cell_type": "code",
      "source": [
        "import pandas as pd\n",
        "df_processed = pd.DataFrame(X.toarray(), columns=vectorizer.get_feature_names_out())"
      ],
      "metadata": {
        "id": "U1Y-xThXnEwg"
      },
      "execution_count": null,
      "outputs": []
    },
    {
      "cell_type": "code",
      "source": [
        "df_original = pd.DataFrame({\"Texto\":textos})"
      ],
      "metadata": {
        "id": "BadFnFAZnRdQ"
      },
      "execution_count": null,
      "outputs": []
    },
    {
      "cell_type": "code",
      "source": [
        "df_processed.reset_index(drop=True, inplace=True)"
      ],
      "metadata": {
        "id": "mP1V07MLnJnC"
      },
      "execution_count": null,
      "outputs": []
    },
    {
      "cell_type": "code",
      "source": [
        "combined_df = pd.merge(df_original, df_processed, left_index=True, right_index=True)"
      ],
      "metadata": {
        "id": "DYWYE071nLSE"
      },
      "execution_count": null,
      "outputs": []
    },
    {
      "cell_type": "code",
      "source": [
        "print(df_processed)"
      ],
      "metadata": {
        "colab": {
          "base_uri": "https://localhost:8080/"
        },
        "id": "L8fFBWbInggE",
        "outputId": "e8e5064c-2c49-4006-f6de-6ca7758a9874"
      },
      "execution_count": null,
      "outputs": [
        {
          "output_type": "stream",
          "name": "stdout",
          "text": [
            "   06  10  11  13  14  15  170  2023  2028  2030  ...  york  z16  água  áreas  \\\n",
            "0   1   2   1   2   2   1    1     1     1     1  ...     1    1     1      1   \n",
            "\n",
            "   éticas  índia  índice  óleo  órgãos  último  \n",
            "0       1      1       1     1       1       1  \n",
            "\n",
            "[1 rows x 545 columns]\n"
          ]
        }
      ]
    },
    {
      "cell_type": "code",
      "source": [
        "print(combined_df)"
      ],
      "metadata": {
        "id": "ccIia6q2oHmr",
        "outputId": "49444caf-5d00-49c0-e781-0095327238b9",
        "colab": {
          "base_uri": "https://localhost:8080/"
        }
      },
      "execution_count": null,
      "outputs": [
        {
          "output_type": "stream",
          "name": "stdout",
          "text": [
            "                                               Texto  06  10  11  13  14  15  \\\n",
            "0  \\n51% dos executivos de dados do Brasil aposta...   1   2   1   2   2   1   \n",
            "\n",
            "   170  2023  2028  ...  york  z16  água  áreas  éticas  índia  índice  óleo  \\\n",
            "0    1     1     1  ...     1    1     1      1       1      1       1     1   \n",
            "\n",
            "   órgãos  último  \n",
            "0       1       1  \n",
            "\n",
            "[1 rows x 546 columns]\n"
          ]
        }
      ]
    }
  ]
}